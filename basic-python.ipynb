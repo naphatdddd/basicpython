{
    "cells": [
        {
            "cell_type": "markdown",
            "source": [
                "1.string\n",
                "2.strip การลบช่องว่าง\n",
                "3.len การนับตัวอักษร\n",
                "4.เช็คข้อความ\n",
                "5.แปลง case ของ string\n",
                "6.การ replace\n",
                "ึ7.การต่อ string\n",
                "8.การจัดรูปแบบการแสดงผล .2f 2คือ2ตำแหน่ง f คือ floating point\n",
                "9.check string"
            ],
            "metadata": {}
        },
        {
            "cell_type": "code",
            "execution_count": 61,
            "source": [
                "name = '    naphat    '\n",
                "fname = 'Naphat'\n",
                "lname = 'Don'\n",
                "age = '42'\n",
                "occupation = 'it'\n",
                "salary = 12345.12345\n",
                "fruit = 'ไปซื้อผลไม้ มีทุเรียน มังคุด ข้าวเหนียวทุเรียน ที่ตลาด แวะไปสวนทุเรียน'\n",
                "# name = name.strip()\n",
                "# name = name.rstrip()\n",
                "# print('1.'+name)\n",
                "# print('2.'+name[0:3])\n",
                "# print('3.'+str(len(name)))\n",
                "# print('4.'+name in 'naphat')\n",
                "# print('5.'+name.capitalize())\n",
                "# print('5.'+name.upper())\n",
                "# print('6.'+name.replace('a', 'd', 2))\n",
                "# print('ขื่อ:' +fname + '\\tนามสกุล: '+lname+ '\\tอายถ: '+age)\n",
                "# print('ขื่อ: {} \\tนามสกุล: {} \\tอายถ: {}'.format(fname,lname,age))\n",
                "# print('ขื่อ: {2} \\tนามสกุล: {2} \\tอาย  6: {2} \\tอาชีพ: {3} \\tsalary: {4:.2f}'.format(fname,lname,age,occupation,salary))\n",
                "print(fruit.count('ทุเรียน'))\n",
                "print(fruit.startswith('ไป'))\n",
                "\n"
            ],
            "outputs": [
                {
                    "output_type": "stream",
                    "name": "stdout",
                    "text": [
                        "3\n",
                        "True\n"
                    ]
                },
                {
                    "output_type": "error",
                    "ename": "NameError",
                    "evalue": "name 'fruit1' is not defined",
                    "traceback": [
                        "\u001b[0;31m---------------------------------------------------------------------------\u001b[0m",
                        "\u001b[0;31mNameError\u001b[0m                                 Traceback (most recent call last)",
                        "\u001b[0;32m/var/folders/py/py6dhs090pbfsq60g_826r2r0000gn/T/ipykernel_93659/2176625127.py\u001b[0m in \u001b[0;36m<module>\u001b[0;34m\u001b[0m\n\u001b[1;32m     20\u001b[0m \u001b[0mprint\u001b[0m\u001b[0;34m(\u001b[0m\u001b[0mfruit\u001b[0m\u001b[0;34m.\u001b[0m\u001b[0mcount\u001b[0m\u001b[0;34m(\u001b[0m\u001b[0;34m'ทุเรียน'\u001b[0m\u001b[0;34m)\u001b[0m\u001b[0;34m)\u001b[0m\u001b[0;34m\u001b[0m\u001b[0;34m\u001b[0m\u001b[0m\n\u001b[1;32m     21\u001b[0m \u001b[0mprint\u001b[0m\u001b[0;34m(\u001b[0m\u001b[0mfruit\u001b[0m\u001b[0;34m.\u001b[0m\u001b[0mstartswith\u001b[0m\u001b[0;34m(\u001b[0m\u001b[0;34m'ไป'\u001b[0m\u001b[0;34m)\u001b[0m\u001b[0;34m)\u001b[0m\u001b[0;34m\u001b[0m\u001b[0;34m\u001b[0m\u001b[0m\n\u001b[0;32m---> 22\u001b[0;31m \u001b[0;32mif\u001b[0m \u001b[0mfruit\u001b[0m \u001b[0;32min\u001b[0m \u001b[0mfruit1\u001b[0m\u001b[0;34m.\u001b[0m\u001b[0mstartswith\u001b[0m\u001b[0;34m(\u001b[0m\u001b[0;34m'กำลัง'\u001b[0m\u001b[0;34m)\u001b[0m\u001b[0;34m:\u001b[0m\u001b[0;34m\u001b[0m\u001b[0;34m\u001b[0m\u001b[0m\n\u001b[0m\u001b[1;32m     23\u001b[0m     \u001b[0mprint\u001b[0m\u001b[0;34m(\u001b[0m\u001b[0mfruit1\u001b[0m\u001b[0;34m)\u001b[0m\u001b[0;34m\u001b[0m\u001b[0;34m\u001b[0m\u001b[0m\n",
                        "\u001b[0;31mNameError\u001b[0m: name 'fruit1' is not defined"
                    ]
                }
            ],
            "metadata": {}
        }
    ],
    "metadata": {
        "orig_nbformat": 4,
        "language_info": {
            "name": "python",
            "version": "3.9.6",
            "mimetype": "text/x-python",
            "codemirror_mode": {
                "name": "ipython",
                "version": 3
            },
            "pygments_lexer": "ipython3",
            "nbconvert_exporter": "python",
            "file_extension": ".py"
        },
        "kernelspec": {
            "name": "python3",
            "display_name": "Python 3.9.6 64-bit"
        },
        "interpreter": {
            "hash": "397704579725e15f5c7cb49fe5f0341eb7531c82d19f2c29d197e8b64ab5776b"
        }
    },
    "nbformat": 4,
    "nbformat_minor": 2
}